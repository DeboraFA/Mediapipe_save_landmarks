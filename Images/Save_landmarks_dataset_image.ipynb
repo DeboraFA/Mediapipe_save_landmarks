{
 "cells": [
  {
   "cell_type": "code",
   "execution_count": null,
   "id": "b926907b",
   "metadata": {},
   "outputs": [],
   "source": [
    "import cv2\n",
    "import glob\n",
    "import numpy as np\n",
    "import os\n",
    "from matplotlib import pyplot as plt\n",
    "import time\n",
    "import mediapipe as mp"
   ]
  },
  {
   "cell_type": "code",
   "execution_count": null,
   "id": "ae839fbc",
   "metadata": {},
   "outputs": [],
   "source": [
    "def extract_landmarks(results):\n",
    "    left_hand = np.array([[result_left.x, result_left.y, result_left.z] for result_left in results.left_hand_landmarks.landmark]) if results.left_hand_landmarks else np.zeros((21,3))\n",
    "    right_hand = np.array([[result_right.x, result_right.y, result_right.z] for result_right in results.right_hand_landmarks.landmark]) if results.right_hand_landmarks else np.zeros((21,3))\n",
    "    hands = np.concatenate([left_hand.flatten(), right_hand.flatten()])\n",
    "    return hands"
   ]
  },
  {
   "cell_type": "markdown",
   "id": "89c85158",
   "metadata": {},
   "source": [
    "# Exemplo uma imagem"
   ]
  },
  {
   "cell_type": "code",
   "execution_count": null,
   "id": "fe55975d",
   "metadata": {},
   "outputs": [],
   "source": [
    "image =  cv2.imread('exemplo.jpeg')   \n",
    "image = cv2.cvtColor(image, cv2.COLOR_BGR2RGB) # COLOR CONVERSION BGR 2 RGB\n",
    "\n",
    "mp_holistic = mp.solutions.holistic # Holistic model\n",
    "mp_drawing = mp.solutions.drawing_utils # Drawing utilities\n",
    "with mp_holistic.Holistic(min_detection_confidence=0.5, min_tracking_confidence=0.5) as holistic:\n",
    "    image.flags.writeable = False                  # Image is no longer writeable\n",
    "    results = holistic.process(image)              # Make prediction\n",
    "\n",
    "    \n",
    "    mp_drawing.draw_landmarks(image, results.left_hand_landmarks, mp_holistic.HAND_CONNECTIONS, \n",
    "                             mp_drawing.DrawingSpec(color=(121,44,250), thickness=1, circle_radius=2), \n",
    "                             mp_drawing.DrawingSpec(color=(121,44,250), thickness=1, circle_radius=2)\n",
    "                             ) \n",
    "    # Draw right hand connections  \n",
    "    mp_drawing.draw_landmarks(image, results.right_hand_landmarks, mp_holistic.HAND_CONNECTIONS, \n",
    "                             mp_drawing.DrawingSpec(color=(121,44,250), thickness=1, circle_radius=2), \n",
    "                             mp_drawing.DrawingSpec(color=(121,44,250), thickness=1, circle_radius=2)\n",
    "                             ) \n",
    "    \n",
    "#     draw_styled_landmarks(image, results)          # Hands landmarks draw\n",
    "    plt.imshow(image)\n",
    "    \n",
    "    keypoints = extract_landmarks(results)         # extract landmarks "
   ]
  },
  {
   "cell_type": "markdown",
   "id": "0d752503",
   "metadata": {},
   "source": [
    "# Salvar landmarks de um dataset"
   ]
  },
  {
   "cell_type": "code",
   "execution_count": null,
   "id": "8b7d6ba1",
   "metadata": {},
   "outputs": [],
   "source": [
    "#### banco de dados\n",
    "## classe 1\n",
    "# imagem 1\n",
    "# imagem 2\n",
    "## classe 2\n",
    "# imagem 1\n",
    "\n",
    "\n",
    "\n",
    "IMG_SIZE = (640, 480)\n",
    "path = 'dataset' # dataset de entrada \n",
    "labels_ = os.listdir(path)\n",
    "\n",
    "\n",
    "data_points = \"dataset_landmarks\" # cria um dataset de saída\n",
    "if not os.path.exists(data_points):\n",
    "    os.makedirs(data_points)\n",
    "\n",
    "mp_holistic = mp.solutions.holistic # Holistic model\n",
    "mp_drawing = mp.solutions.drawing_utils # Drawing utilities\n",
    "with mp_holistic.Holistic(min_detection_confidence=0.5, min_tracking_confidence=0.5) as holistic:\n",
    "    \n",
    "    for i, label in enumerate(labels_):\n",
    "        cur_path = path + \"/\" + label \n",
    "        \n",
    "        diretorio = os.path.join(data_points, label) \n",
    "        if not os.path.exists(diretorio):\n",
    "            os.mkdir(diretorio)\n",
    "       \n",
    "        for image_path in glob.glob(cur_path + \"/*\"):\n",
    "            image = cv2.imread(image_path)\n",
    "            image = cv2.resize(image, IMG_SIZE)\n",
    "            image = cv2.cvtColor(image, cv2.COLOR_BGR2RGB)\n",
    "\n",
    "            image.flags.writeable = False                  # Image is no longer writeable\n",
    "            results = holistic.process(image)              # Make prediction\n",
    "\n",
    "            keypoints = extract_landmarks(results)         # extract landmarks \n",
    "            npy_path = os.path.join(data_points, label, image_path.split(\"\\\\\")[-1][:-4])\n",
    "            np.save(npy_path, keypoints) # salvar npy\n",
    "\n",
    "        print (\"[INFO] completed label - \" + label)\n"
   ]
  },
  {
   "cell_type": "code",
   "execution_count": null,
   "id": "fe516f7d",
   "metadata": {},
   "outputs": [],
   "source": []
  }
 ],
 "metadata": {
  "kernelspec": {
   "display_name": "Python 3",
   "language": "python",
   "name": "python3"
  },
  "language_info": {
   "codemirror_mode": {
    "name": "ipython",
    "version": 3
   },
   "file_extension": ".py",
   "mimetype": "text/x-python",
   "name": "python",
   "nbconvert_exporter": "python",
   "pygments_lexer": "ipython3",
   "version": "3.8.8"
  }
 },
 "nbformat": 4,
 "nbformat_minor": 5
}
