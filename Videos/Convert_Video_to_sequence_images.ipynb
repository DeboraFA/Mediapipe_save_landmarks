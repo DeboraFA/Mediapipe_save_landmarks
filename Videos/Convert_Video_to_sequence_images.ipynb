{
 "cells": [
  {
   "cell_type": "code",
   "execution_count": 1,
   "id": "747dabaf",
   "metadata": {},
   "outputs": [],
   "source": [
    "# Converte os vídeos para uma pasta de frames\n",
    "# Estrutura de pastas:\n",
    "#-dataset\n",
    "#-------- classe1\n",
    "#---- video1\n",
    "#---- video2\n",
    "#-------- classe2\n",
    "#---- video1\n",
    "#---- video2\n",
    "\n",
    "\n",
    "import cv2\n",
    "import os\n",
    "\n",
    "\n",
    "dataset_dir = \"Dataset_antigo/Videos\" # diretório da pasta principal (entrada)\n",
    "saida = \"Dataset_antigo/Images\" # saída dos vídeos para imagens (cria uma pasta de saída)\n",
    "if not os.path.exists(saida): \n",
    "    os.mkdir(saida)\n",
    "    \n",
    "\n",
    "\n",
    "# Cria as pastas de cada cenário dentro da pasta de saída principal\n",
    "for sign_folder in os.listdir(dataset_dir):\n",
    "    diretorio = os.path.join(saida, sign_folder) \n",
    "    if not os.path.exists(diretorio):\n",
    "        os.mkdir(diretorio)\n",
    "\n",
    "    lista_videos = os.listdir(dataset_dir + '/' + sign_folder) # nome dos vídeos em cada pasta\n",
    "    \n",
    "    \n",
    "    for video_folder in lista_videos:    \n",
    "        sec = 1\n",
    "        vidcap = cv2.VideoCapture(dataset_dir + \"/\" + sign_folder +  \"/\"  + video_folder)\n",
    "        \n",
    "        if not os.path.exists(saida + \"/\" + sign_folder +  \"/\"  + video_folder[:-4]): \n",
    "            os.mkdir(saida + \"/\" + sign_folder +  \"/\"  + video_folder[:-4])\n",
    "            \n",
    "        def getFrame(sec):\n",
    "            vidcap.set(cv2.CAP_PROP_FPS, 30)\n",
    "            hasFrames,image = vidcap.read()\n",
    "            \n",
    "            if hasFrames:\n",
    "                cv2.imwrite(saida + \"/\" + sign_folder +  \"/\"  + video_folder[:-4] + \"/\"  + \"image\"+str(sec)+\".jpg\", image)     # save frame as JPG file\n",
    "            return hasFrames\n",
    "\n",
    "        success = getFrame(sec)\n",
    "       \n",
    "        while success:\n",
    "            sec = sec + 1\n",
    "            sec = round(sec, 2)\n",
    "            success = getFrame(sec)\n",
    "\n",
    "    \n",
    "\n"
   ]
  },
  {
   "cell_type": "code",
   "execution_count": null,
   "id": "a64b3567",
   "metadata": {},
   "outputs": [],
   "source": []
  },
  {
   "cell_type": "code",
   "execution_count": null,
   "id": "2ce486d6",
   "metadata": {},
   "outputs": [],
   "source": []
  },
  {
   "cell_type": "code",
   "execution_count": null,
   "id": "c7530bc3",
   "metadata": {},
   "outputs": [],
   "source": []
  }
 ],
 "metadata": {
  "kernelspec": {
   "display_name": "Python 3 (ipykernel)",
   "language": "python",
   "name": "python3"
  },
  "language_info": {
   "codemirror_mode": {
    "name": "ipython",
    "version": 3
   },
   "file_extension": ".py",
   "mimetype": "text/x-python",
   "name": "python",
   "nbconvert_exporter": "python",
   "pygments_lexer": "ipython3",
   "version": "3.9.0"
  }
 },
 "nbformat": 4,
 "nbformat_minor": 5
}
