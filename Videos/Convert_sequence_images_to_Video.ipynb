{
 "cells": [
  {
   "cell_type": "code",
   "execution_count": null,
   "id": "599d8644",
   "metadata": {},
   "outputs": [],
   "source": [
    "# ! pip install pygame\n",
    "# ! pip install moviepy\n",
    "import os\n",
    "import cv2\n",
    "from moviepy.editor import *\n",
    "import random\n",
    "import re"
   ]
  },
  {
   "cell_type": "code",
   "execution_count": null,
   "id": "e3e25e80",
   "metadata": {},
   "outputs": [],
   "source": [
    "# Entrada\n",
    "# ---Classe 1\n",
    "# ---- Pasta de imagens 1\n",
    "# ----- Imagem1\n",
    "# ----- Imagem2\n",
    "# Saída\n",
    "# --- Classe 1\n",
    "# --- Vídeo 1\n",
    "\n",
    "# https://www.codeproject.com/Questions/5300311/How-do-I-preserve-the-order-of-images-while-creati\n",
    "\n",
    "def natural_sort_key(s, _nsre=re.compile('([0-9]+)')):\n",
    "    return [\n",
    "        int(text)\n",
    "        if text.isdigit() else text.lower()\n",
    "        for text in _nsre.split(s)]\n",
    "\n",
    "\n",
    "\n",
    "path_entrada = \"Images_data\" # Entrada\n",
    "path_saida = \"Videos_Saida\" # será criado uma pasta de saída\n",
    "\n",
    "if not os.path.exists(path_saida):\n",
    "    os.mkdir(path_saida)\n",
    "\n",
    "\n",
    "fps = 30 \n",
    "\n",
    "\n",
    "for sign_folder in os.listdir(path_entrada):\n",
    "    if not os.path.exists(path_saida+ '/'+ sign_folder):\n",
    "        os.mkdir(path_saida+'/'+sign_folder)\n",
    "    for  idx, video_folder in enumerate(os.listdir(path_entrada + '/' + sign_folder)):       \n",
    "        diretorio = path_entrada + '/' + sign_folder + '/' + video_folder\n",
    "        image_files = [diretorio+'/'+ img for img in os.listdir(diretorio) if img.endswith(\".png\") or  img.endswith(\".jpg\") or  img.endswith(\".jpeg\")]\n",
    "        sorted_images = sorted(image_files, key=natural_sort_key)\n",
    "        clip = ImageSequenceClip(sorted_images, fps=fps)\n",
    "        clip.write_videofile(path_saida + '/' + sign_folder + '/' + video_folder + '_'  +'video.mp4')\n",
    "        \n",
    "    \n",
    "    \n",
    "    \n"
   ]
  },
  {
   "cell_type": "code",
   "execution_count": null,
   "id": "7a51ac16",
   "metadata": {},
   "outputs": [],
   "source": []
  }
 ],
 "metadata": {
  "kernelspec": {
   "display_name": "Python 3",
   "language": "python",
   "name": "python3"
  },
  "language_info": {
   "codemirror_mode": {
    "name": "ipython",
    "version": 3
   },
   "file_extension": ".py",
   "mimetype": "text/x-python",
   "name": "python",
   "nbconvert_exporter": "python",
   "pygments_lexer": "ipython3",
   "version": "3.8.8"
  }
 },
 "nbformat": 4,
 "nbformat_minor": 5
}
