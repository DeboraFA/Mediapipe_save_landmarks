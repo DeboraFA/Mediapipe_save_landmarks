{
 "cells": [
  {
   "cell_type": "code",
   "execution_count": null,
   "id": "fa0b2b69",
   "metadata": {},
   "outputs": [],
   "source": [
    "from sklearn.model_selection import train_test_split\n",
    "from tensorflow.keras.utils import to_categorical\n",
    "import cv2\n",
    "import numpy as np\n",
    "import os\n",
    "from matplotlib import pyplot as plt\n",
    "import time\n",
    "import mediapipe as mp\n",
    "import re\n",
    "import random\n",
    "import tensorflow as tf\n"
   ]
  },
  {
   "cell_type": "markdown",
   "id": "2880d591",
   "metadata": {},
   "source": [
    "# Load dataset landmarks mediapipe"
   ]
  },
  {
   "cell_type": "code",
   "execution_count": null,
   "id": "ec795adf",
   "metadata": {},
   "outputs": [],
   "source": [
    "sequence_length = 10 # quantidade máxima de frames\n",
    "\n",
    "def natural_sort_key(s, _nsre=re.compile('([0-9]+)')):\n",
    "    return [\n",
    "        int(text)\n",
    "        if text.isdigit() else text.lower()\n",
    "        for text in _nsre.split(s)]\n",
    "\n",
    "\n",
    "def landmarks_data(DATA_PATH):\n",
    "    sequences, labels = [], []\n",
    "    actions = np.array(sorted(os.listdir(DATA_PATH)))\n",
    "    label_map = {label:num for num, label in enumerate(actions)}\n",
    "    for action in actions:\n",
    "        for qnt_videos in os.listdir(os.path.join(DATA_PATH,action)):\n",
    "            if (len(os.listdir(DATA_PATH + '/' + action + '/' + qnt_videos))) < sequence_length:\n",
    "                continue\n",
    "            window = []\n",
    "\n",
    "            a = random.sample(os.listdir(DATA_PATH + '/' + action + '/' + qnt_videos), sequence_length)\n",
    "            for frame_num in sorted(a, key=natural_sort_key):\n",
    "                res = np.load(os.path.join(DATA_PATH, action, str(qnt_videos), \"{}\".format(frame_num)))\n",
    "                window.append(res)\n",
    "            sequences.append(window)\n",
    "            labels.append(label_map[action])\n",
    "    return sequences, labels\n",
    "\n",
    "\n"
   ]
  },
  {
   "cell_type": "code",
   "execution_count": null,
   "id": "ac5b01d8",
   "metadata": {},
   "outputs": [],
   "source": [
    "path = 'Landmarks_videos' # pasta de entrada\n",
    "data, labels = landmarks_data(path) "
   ]
  },
  {
   "cell_type": "markdown",
   "id": "bd540ebb",
   "metadata": {},
   "source": [
    "# train test split"
   ]
  },
  {
   "cell_type": "code",
   "execution_count": null,
   "id": "9a0af393",
   "metadata": {},
   "outputs": [],
   "source": [
    "classes = len(set(labels)\n",
    "y = to_categorical(labels).astype(int)\n",
    "x_train, x_test, y_train, y_test = train_test_split(data, y, test_size=0.2)\n"
   ]
  },
  {
   "cell_type": "markdown",
   "id": "9c4d2a61",
   "metadata": {},
   "source": [
    "# Lstm model"
   ]
  },
  {
   "cell_type": "code",
   "execution_count": null,
   "id": "a945baf0",
   "metadata": {},
   "outputs": [],
   "source": [
    "model = Sequential()\n",
    "model.add(LSTM(128, return_sequences=True, activation='relu',input_shape=(np.shape(data)[1], np.shape(data)[2])))  # (qtd_frames, qtd_landmarks)\n",
    "model.add(LSTM(64, return_sequences=True, activation='relu'))  \n",
    "model.add(LSTM(32, activation='relu'))  \n",
    "model.add(Dense(classes, activation='softmax'))\n",
    "\n",
    "model.compile(loss='categorical_crossentropy',\n",
    "              optimizer='sgd',\n",
    "              metrics=['accuracy'])\n",
    "\n",
    "epochs=100\n",
    "model.fit(x_train, y_train, epochs=epochs, validation_split = 0.1)"
   ]
  },
  {
   "cell_type": "markdown",
   "id": "d686d91e",
   "metadata": {},
   "source": [
    "# Accuracy test"
   ]
  },
  {
   "cell_type": "code",
   "execution_count": null,
   "id": "8be7182b",
   "metadata": {},
   "outputs": [],
   "source": [
    "from sklearn.metrics import classification_report, accuracy_score\n",
    "from sklearn.metrics import confusion_matrix\n",
    "\n",
    "predict = model.predict(np.array(x_test))\n",
    "y_pred = np.argmax(predict, axis = 1)\n",
    "y_true = np.argmax(y_test, axis = 1)\n",
    "\n",
    "print(\"Acurácia:\", accuracy_score(y_true, y_pred))\n",
    "print(classification_report(y_true, y_pred))\n"
   ]
  },
  {
   "cell_type": "code",
   "execution_count": null,
   "id": "47393659",
   "metadata": {},
   "outputs": [],
   "source": []
  }
 ],
 "metadata": {
  "kernelspec": {
   "display_name": "Python 3",
   "language": "python",
   "name": "python3"
  },
  "language_info": {
   "codemirror_mode": {
    "name": "ipython",
    "version": 3
   },
   "file_extension": ".py",
   "mimetype": "text/x-python",
   "name": "python",
   "nbconvert_exporter": "python",
   "pygments_lexer": "ipython3",
   "version": "3.8.8"
  }
 },
 "nbformat": 4,
 "nbformat_minor": 5
}
