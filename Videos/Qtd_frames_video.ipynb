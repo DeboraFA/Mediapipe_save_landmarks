{
 "cells": [
  {
   "cell_type": "code",
   "execution_count": null,
   "id": "a08e5bbe",
   "metadata": {},
   "outputs": [],
   "source": [
    "# Verifica a quantidade de frames em cada pasta de vídeo (sequência de imagens)\n",
    "# e retorna as quantidades mínima e máxima de frames em cada classe\n",
    "\n",
    "import os\n",
    "import cv2\n",
    "import numpy as np\n",
    "\n",
    "# Estrutura de pastas:\n",
    "#---------------dataset\n",
    "#------------classe 1\n",
    "#---- classe1_imagens1\n",
    "#---- classe1_imagens2\n",
    "#------------classe 2\n",
    "#---- classe2_imagens1\n",
    "#---- classe2_imagens2\n",
    "\n",
    "\n",
    "\n",
    "dataset_dir = \"video\" # diretório da pasta principal (dataset)\n",
    "\n",
    "\n",
    "qtd = []\n",
    "\n",
    "for sign_folder in os.listdir(dataset_dir):  \n",
    "    lista_videos = os.listdir(dataset_dir + '/' + sign_folder)\n",
    "    \n",
    "    for  video_folder in lista_videos: \n",
    "        caminho = dataset_dir + '/' + sign_folder + '/' + video_folder\n",
    "        \n",
    "        qtd_frames = len(os.listdir(caminho))\n",
    "        print(caminho,':', qtd_frames)\n",
    "        \n",
    "        qtd.append(qtd_frames)\n",
    "        \n",
    "print(\"Máximo: \", np.max(qtd))\n",
    "print(\"Mínimo: \", ,np.min(qtd))\n",
    "\n"
   ]
  },
  {
   "cell_type": "code",
   "execution_count": null,
   "id": "d8e64b10",
   "metadata": {},
   "outputs": [],
   "source": []
  }
 ],
 "metadata": {
  "kernelspec": {
   "display_name": "Python 3",
   "language": "python",
   "name": "python3"
  },
  "language_info": {
   "codemirror_mode": {
    "name": "ipython",
    "version": 3
   },
   "file_extension": ".py",
   "mimetype": "text/x-python",
   "name": "python",
   "nbconvert_exporter": "python",
   "pygments_lexer": "ipython3",
   "version": "3.8.8"
  }
 },
 "nbformat": 4,
 "nbformat_minor": 5
}
