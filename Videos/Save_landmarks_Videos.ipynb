{
 "cells": [
  {
   "cell_type": "code",
   "execution_count": null,
   "id": "c3ec747a",
   "metadata": {},
   "outputs": [],
   "source": [
    "import pandas as pd\n",
    "import numpy as np\n",
    "import cv2\n",
    "import os\n",
    "import re\n",
    "import mediapipe as mp\n",
    "from random import sample"
   ]
  },
  {
   "cell_type": "code",
   "execution_count": null,
   "id": "81e9e489",
   "metadata": {},
   "outputs": [],
   "source": [
    "# Salva 21 landmarks da mão para cada coordenada de x, y e z\n",
    "def extract_landmarks(results):\n",
    "    left_hand = np.array([[result_left.x, result_left.y, result_left.z] for result_left in results.left_hand_landmarks.landmark]) if results.left_hand_landmarks else np.zeros((21,3))\n",
    "    right_hand = np.array([[result_right.x, result_right.y, result_right.z] for result_right in results.right_hand_landmarks.landmark]) if results.right_hand_landmarks else np.zeros((21,3))\n",
    "    hands = np.concatenate([left_hand.flatten(), right_hand.flatten()])\n",
    "    return hands\n"
   ]
  },
  {
   "cell_type": "code",
   "execution_count": null,
   "id": "8d1db7d0",
   "metadata": {},
   "outputs": [],
   "source": [
    "# Leitura com vídeos de entrada \n",
    "# --- Classe 1\n",
    "# --------Vídeo 1\n",
    "# --------Video 2\n",
    "\n",
    "img_size = 224, 224\n",
    "max_frames = 20\n",
    "data_dir = 'dataset' # diretório de entrada \n",
    "\n",
    "\n",
    "# Cria um diretório de saída\n",
    "data_points = \"dataset_videos_landmarks\"\n",
    "if not os.path.exists(data_points):\n",
    "    os.makedirs(data_points)\n",
    "\n",
    "\n",
    "mp_holistic = mp.solutions.holistic # Holistic model\n",
    "mp_drawing = mp.solutions.drawing_utils # Drawing utilities\n",
    "with mp_holistic.Holistic(min_detection_confidence=0.5, min_tracking_confidence=0.5) as holistic:\n",
    "    \n",
    "    for sign_folder in sorted(os.listdir(data_dir)): \n",
    "        print(sign_folder)\n",
    "        \n",
    "        if not os.path.exists(os.path.join(data_points, sign_folder)):\n",
    "            os.mkdir(os.path.join(data_points, sign_folder))\n",
    "        \n",
    "        for video_folder in sorted(os.listdir(data_dir + '/' + sign_folder)): \n",
    "\n",
    "            cap = cv2.VideoCapture(data_dir + '/' +  sign_folder + '/' +  video_folder)\n",
    "            frames = []\n",
    "            try:\n",
    "                while True:\n",
    "                    ret, frame = cap.read()\n",
    "                    if not ret:\n",
    "                        break\n",
    "\n",
    "                    frame = cv2.resize(frame, img_size)\n",
    "                    frames.append(frame)\n",
    "\n",
    "            finally:\n",
    "                cap.release()\n",
    "\n",
    "\n",
    "            if len(frames) > max_frames and max_frames!=0: \n",
    "                qtd_frames = sorted(sample(range(0, len(frames)), max_frames))\n",
    "\n",
    "                for i in sorted(qtd_frames):\n",
    "                    frames[i].flags.writeable = False                  # Image is no longer writeable\n",
    "                    results = holistic.process(frames[i])              # Make prediction\n",
    "                    keypoints = extract_landmarks(results)         # extract landmarks \n",
    "        \n",
    "        \n",
    "                    if not os.path.exists(os.path.join(data_points, sign_folder, video_folder.split(\".mp4\")[0])):\n",
    "                        os.mkdir(os.path.join(data_points, sign_folder, video_folder.split(\".mp4\")[0]))\n",
    "                    \n",
    "                    npy_path = os.path.join(data_points, sign_folder, video_folder.split(\".mp4\")[0], str(i))\n",
    "                    np.save(npy_path, keypoints)\n",
    "\n",
    "\n",
    "\n",
    "\n"
   ]
  },
  {
   "cell_type": "code",
   "execution_count": null,
   "id": "062f50d6",
   "metadata": {},
   "outputs": [],
   "source": []
  },
  {
   "cell_type": "code",
   "execution_count": null,
   "id": "38c8eba1",
   "metadata": {},
   "outputs": [],
   "source": []
  }
 ],
 "metadata": {
  "kernelspec": {
   "display_name": "Python 3",
   "language": "python",
   "name": "python3"
  },
  "language_info": {
   "codemirror_mode": {
    "name": "ipython",
    "version": 3
   },
   "file_extension": ".py",
   "mimetype": "text/x-python",
   "name": "python",
   "nbconvert_exporter": "python",
   "pygments_lexer": "ipython3",
   "version": "3.8.8"
  }
 },
 "nbformat": 4,
 "nbformat_minor": 5
}
